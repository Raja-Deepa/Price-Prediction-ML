{
 "cells": [
  {
   "cell_type": "code",
   "execution_count": 4,
   "id": "f8ba65fb-9025-4074-9d63-b38d8d9f22c7",
   "metadata": {},
   "outputs": [],
   "source": [
    "from joblib import dump, load\n",
    "import numpy as np\n",
    "model=load('Deepa.joblib')"
   ]
  },
  {
   "cell_type": "code",
   "execution_count": 9,
   "id": "8754ed85-ab85-4f04-b163-2b3e8e5292bc",
   "metadata": {},
   "outputs": [
    {
     "data": {
      "text/plain": [
       "array([24.577])"
      ]
     },
     "execution_count": 9,
     "metadata": {},
     "output_type": "execute_result"
    }
   ],
   "source": [
    "features= np.array([[-0.43942006,  7.12628155, -1.12165014, -0.27288841, -1.42262747,\n",
    "       -0.24115716, -1.31238772,  2.61111401, -26.0016859 , -0.5778192 ,\n",
    "       -0.97491834,  0.41164221, -6.86091034]])\n",
    "model.predict(features)"
   ]
  },
  {
   "cell_type": "code",
   "execution_count": null,
   "id": "a556fe9a-edc9-4c7b-9d40-27ddb9bdb299",
   "metadata": {},
   "outputs": [],
   "source": []
  }
 ],
 "metadata": {
  "kernelspec": {
   "display_name": "Python 3 (ipykernel)",
   "language": "python",
   "name": "python3"
  },
  "language_info": {
   "codemirror_mode": {
    "name": "ipython",
    "version": 3
   },
   "file_extension": ".py",
   "mimetype": "text/x-python",
   "name": "python",
   "nbconvert_exporter": "python",
   "pygments_lexer": "ipython3",
   "version": "3.12.1"
  }
 },
 "nbformat": 4,
 "nbformat_minor": 5
}
